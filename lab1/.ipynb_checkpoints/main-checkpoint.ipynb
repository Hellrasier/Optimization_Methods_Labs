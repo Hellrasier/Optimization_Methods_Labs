{
 "cells": [
  {
   "cell_type": "code",
   "execution_count": 2,
   "id": "31baed81-add7-4d5d-ba16-fd8c14792a79",
   "metadata": {},
   "outputs": [],
   "source": [
    "import seaborn as sb \n",
    "import matplotlib as mplib\n",
    "import numpy as np"
   ]
  },
  {
   "cell_type": "code",
   "execution_count": null,
   "id": "91ad76cc-3bf8-43b9-8ead-1eb0bffe13ec",
   "metadata": {},
   "outputs": [],
   "source": []
  }
 ],
 "metadata": {
  "kernelspec": {
   "display_name": "Python 3 (ipykernel)",
   "language": "python",
   "name": "python3"
  },
  "language_info": {
   "codemirror_mode": {
    "name": "ipython",
    "version": 3
   },
   "file_extension": ".py",
   "mimetype": "text/x-python",
   "name": "python",
   "nbconvert_exporter": "python",
   "pygments_lexer": "ipython3",
   "version": "3.8.10"
  }
 },
 "nbformat": 4,
 "nbformat_minor": 5
}
