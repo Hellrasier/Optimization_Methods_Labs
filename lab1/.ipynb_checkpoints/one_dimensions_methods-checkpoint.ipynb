{
 "cells": [
  {
   "cell_type": "code",
   "execution_count": 327,
   "id": "31baed81-add7-4d5d-ba16-fd8c14792a79",
   "metadata": {},
   "outputs": [],
   "source": [
    "import seaborn as sb \n",
    "import matplotlib as mplib\n",
    "import numpy as np\n",
    "import OneDimMethods as oneDim"
   ]
  },
  {
   "cell_type": "markdown",
   "id": "21a80a89-9148-4334-b30a-48fd353b79e7",
   "metadata": {},
   "source": [
    "### Double scale method (method of Dichotomy)\n",
    "\n",
    "$$\n",
    "f(x) \\rightarrow min, D(f) \\subset \\mathbb{R} \\\\\n",
    "f(x) - \\mbox{unimodal on } [a, b] \\\\\n",
    "x_* \\in [a, b], f_{min} = f(x_*)\n",
    "$$\n",
    "\n",
    "Starting section is $[a, b]$.\n",
    "\n",
    "On start we pick $\\delta$ small enough: $\\delta < \\frac{\\varepsilon }{2}$\n",
    "\n",
    "Then, on k iteration we have section $[a_k, b_k]$\n",
    "\n",
    "$x_{k1}, x_{k2}$ we find by dividing section by 2 and adding $\\pm \\delta$\n",
    "\n",
    "$x_{k1} = \\frac{a + b}{2} - \\delta, x_{k2} = \\frac{a+b}{2} + \\delta$\n",
    "\n",
    "Then we find $f(x_{k1})$ and $f(x_{k2})$. \n",
    "\n",
    "After this we can make procedure of cutting section, getting the new section $[a_{k+1}, b_{k+1}]$\n",
    "\n",
    "Repeqting this steps before we get $l_N = b_N - a_N < \\varepsilon$\n",
    "\n",
    "After this we get our $x_* = \\frac{a_N + b_N}{2}$ \n",
    "\n",
    "The convegance speed we can evaluate, using section length form$ula: \n",
    "$$l_N = \\frac{1 - 2\\delta}{2^{\\frac{N}{2}}} + \\delta$"
   ]
  },
  {
   "cell_type": "code",
   "execution_count": 332,
   "id": "7f90d3d7-6e05-40f6-9b5c-2ef44dcabc61",
   "metadata": {},
   "outputs": [
    {
     "name": "stdout",
     "output_type": "stream",
     "text": [
      "0.0 0.499 0.501 1.0\n",
      "0.0 0.2495 0.2515 0.501\n",
      "0.0 0.12475 0.12675 0.2515\n",
      "0.12475 0.18712499999999999 0.189125 0.2515\n",
      "0.18712499999999999 0.2515\n",
      "0.04279726562499999\n"
     ]
    }
   ],
   "source": [
    "test = lambda x: 100*(x-0.24)**2\n",
    "result = double_scale_method(test, 0.0, 1.0, 0.1)\n",
    "print(result)"
   ]
  },
  {
   "cell_type": "markdown",
   "id": "46ab8f9b-c4aa-437d-b8db-191579b9f2aa",
   "metadata": {},
   "source": [
    "### Golden scale method\n",
    "\n",
    "$$\n",
    "f(x) \\rightarrow min, D(f) \\subset \\mathbb{R} \\\\\n",
    "f(x) - \\mbox{unimodal on } [a, b]\\\\\n",
    "x_* \\in [a, b], f_{min} = f(x_*)\n",
    "$$\n",
    "\n",
    "Starting section is $[a, b]$.\n",
    "\n",
    "On k iteration we find $x_{k1}$ and $x_{k2}$ that divide $[a_k, b_k]$ by golden scale $\\tau$\n",
    "\n",
    "Then we evaluate $f(x_{k1})$ or $f(x_{k2})$, because one of $x_{k1}, x_{k2}$ and so $f(x_{k1})$ or $f(x_{k2})$ we already have from previous iteration. It is because of a property of golden scale, that \n",
    "$$\\frac{l_k}{l_{k+1}} = \\frac{l_{k+1}}{l_{k+2}} = \\tau = const$$\n",
    "\n",
    "After we get $x_{k1}, x_{k2}$, $f(x_{k1}), f(x_{k2})$ we can do the procedure of cutting section and repeat this steps before we get $l_k < \\varepsilon$\n",
    "\n",
    "The convergergence rate of this method is\n",
    "\n",
    "$$l_N = \\frac{1}{\\tau^{N-1}}$$\n",
    "\n"
   ]
  },
  {
   "cell_type": "code",
   "execution_count": 236,
   "id": "0b5c6a32-70fd-415c-b0ba-febc00e91733",
   "metadata": {},
   "outputs": [],
   "source": [
    "def cut_section_procedure(a, x1, x2, b, f_x1, f_x2):\n",
    "    if f_x1 <= f_x2:\n",
    "        return a, x2, x1, f_x1\n",
    "    else:\n",
    "        return x1, b, x2, f_x2\n",
    "\n",
    "\n",
    "\n",
    "def golden_scale_method(f, a, b, epsilon):\n",
    "    g_c = 1.618033988\n",
    "    x, f_x = 0.0, 0.0\n",
    "    x2 = (b - a)/g_c + a \n",
    "    x1 = b - (b - a)/(g_c)\n",
    "    f_x1, f_x2 = f(x1), f(x2)\n",
    "    print(a, x1, x2, b)\n",
    "    a, b, x, f_x = cut_section_procedure(a, x1, x2, b, f_x1, f_x2)\n",
    "    while(b - a > epsilon):\n",
    "        y = a + b - x\n",
    "        if x < y:\n",
    "            x1, x2 = x, y\n",
    "            f_x1, f_x2 = f_x, f(y)\n",
    "        else: \n",
    "            x1, x2 = y, x\n",
    "            f_x1, f_x2 = f(y), f_x\n",
    "        print(a, x1, x2, b)\n",
    "        a, b, x, f_x = cut_section_procedure(a, x1, x2, b, f_x1, f_x2) \n",
    "    print(a, x1, x2, b)\n",
    "    return f((a + b)/2)"
   ]
  },
  {
   "cell_type": "code",
   "execution_count": 334,
   "id": "7f464a80-f7eb-4ad3-8960-8c98b0ac9742",
   "metadata": {},
   "outputs": [
    {
     "name": "stdout",
     "output_type": "stream",
     "text": [
      "0 0.3819660109636709 0.6180339890363291 1.0\n",
      "0 0.23606797807265822 0.3819660109636709 0.6180339890363291\n",
      "0 0.14589803289101266 0.23606797807265822 0.3819660109636709\n",
      "0.14589803289101266 0.23606797807265822 0.2917960657820253 0.3819660109636709\n",
      "0.14589803289101266 0.20162612060037977 0.23606797807265822 0.2917960657820253\n",
      "0.004503877182100529\n"
     ]
    }
   ],
   "source": [
    "test = lambda x: 100*(x-0.24)**2\n",
    "result = golden_scale_method(test, 0, 1.0, 0.1)\n",
    "print(result)"
   ]
  },
  {
   "cell_type": "markdown",
   "id": "a694e074-4e74-4ab4-b1d6-8075a9587c7e",
   "metadata": {},
   "source": [
    "### Fibbonaci method\n",
    "\n",
    "$$\n",
    "f(x) \\rightarrow min, D(f) \\subset \\mathbb{R} \\\\\n",
    "f(x) - \\mbox{unimodal on } [a, b]\\\\\n",
    "x_* \\in [a, b], f_{min} = f(x_*)\n",
    "$$\n",
    "\n",
    "Fibbonaci method has pros from golden scale method and method of dichotomy\n",
    "\n",
    "The idea of this method is to change the ratio $\\frac{l_k}{l_{k+1}}$ on every iteration\n",
    "\n",
    "We can do this, by using the property of golden scale: $l_{k-1} = l_k + l_{k+1}$\n",
    "\n",
    "To show how this method works, let's start from last $N-1$ iteration:\n",
    "\n",
    "We have section $[a_{N-1}, b_{N-1}]$ with length $l_{N-1}$ and two inner points $x_N$ and $x_{N-1}$\n",
    "\n",
    "Let's propose, that $x_N = x_*$ - our minimum and $l_{N} = \\frac{l_{N-1}}{2} + \\delta$ ($\\delta$ from dichotomy method)\n",
    "\n",
    "By using our golden scale property we can evaluate $l_{N-2} = l_{N-1} + l_N = l_N + 2l_N = 3l_N - 2\\delta$. And this is a fibbonaci sequence\n",
    "\n",
    "So, the $l_1$ would be $l_1 = F_{N+2}l_N - 2F_N\\delta$, where $F_{k}$ is $k$ fibbonaci number, N is number of iteration\n",
    "\n",
    "How can we get N? \n",
    "\n",
    "We get N from this equation: $F_{N+2} > \\varepsilon$, where N is min\n",
    "\n",
    "So before using this method we need to evaluate all fibbonaci numbers to $F_{N+2}$\n",
    "\n",
    "After that we do the procedure in which on k step we evaluete inner points in $[a_k, b_k]$ by this formula:\n",
    "$$\n",
    "    x_{k1} = a_k + \\frac{F_{N-k}}{F_{N+1}} l_1 + (-1)^{N-1}\\frac{2\\delta}{F_{N+1}}, \\\\ \n",
    "    x_{k2} = b_k - \\frac{F_{N-k}}{F_{N+1}} l_1 + (-1)^{N-1}\\frac{2\\delta}{F_{N+1}}, \\\\\n",
    "    x_{k1} < x_{k2}\n",
    "$$\n",
    "And last point $x_N$ will be our $x_*$\n",
    "Also we now one of $x_{k1}, x_{k2}$ from previous iteration and $f(x)$ of this point. So, on every iteration we call function only 1 time.\n",
    "\n",
    "The convergence rate of this method is: \n",
    "$$\n",
    "l_N = \\frac{l_1}{F_{N+1}} + 2\\delta \\frac{F_{N-1}}{F_{N+1}} \\approx \\frac{l_1}{F_{N+1}}\n",
    "$$"
   ]
  },
  {
   "cell_type": "code",
   "execution_count": 257,
   "id": "f3e7a558-32d2-4ba8-986d-e6afddcdb307",
   "metadata": {},
   "outputs": [],
   "source": [
    "def getFibbonachies(epsilon):\n",
    "    fibbs = [] \n",
    "    fibbs.append(1)\n",
    "    fibbs.append(1)\n",
    "    while(fibbs[len(fibbs) - 1] < 1/epsilon):\n",
    "        f2 = fibbs[len(fibbs) - 1]\n",
    "        f1 = fibbs[len(fibbs) - 2]\n",
    "        fibbs.append(f1 + f2)\n",
    "    return fibbs\n",
    "    \n",
    "\n",
    "\n",
    "def fibbonaci_method(f, a, b, epsilon):\n",
    "    F = getFibbonachies(epsilon)\n",
    "    N = len(F) - 2\n",
    "    l = b - a\n",
    "    delta = epsilon / 100\n",
    "    x2 = a + F[N]/F[N+1] * l + (-1)**(N+1)*2*delta/F[N+1]\n",
    "    x1 = a + F[N-1]/F[N+1] * l\n",
    "    f_x1, f_x2 = f(x1), f(x2)\n",
    "    print(a, x1, x2, b)\n",
    "    a, b, x, f_x = cut_section_procedure(a, x1, x2, b, f_x1, f_x2)\n",
    "    for i in range(2, N+1):\n",
    "        y = a + F[N-i]/F[N+1] * l + (-1)**(N+1)*2*delta/F[N+1]\n",
    "        if x == y: y = b - F[N-i]/F[N+1] * l + (-1)**(N+1)*2*delta/F[N+1]\n",
    "        if x < y:\n",
    "            x1, x2 = x, y\n",
    "            f_x1, f_x2 = f_x, f(y)\n",
    "        else: \n",
    "            x1, x2 = y, x\n",
    "            f_x1, f_x2 = f(y), f_x\n",
    "        print(a, x1, x2, b)\n",
    "        a, b, x, f_x = cut_section_procedure(a, x1, x2, b, f_x1, f_x2) \n",
    "    print(a, b)\n",
    "    return f_x\n",
    "    \n",
    "        \n"
   ]
  },
  {
   "cell_type": "code",
   "execution_count": 258,
   "id": "ce01e478-d049-4682-8eac-5f1da8802ca6",
   "metadata": {},
   "outputs": [
    {
     "name": "stdout",
     "output_type": "stream",
     "text": [
      "0.0 0.38461538461538464 0.6155384615384616 1.0\n",
      "0.0 0.23092307692307693 0.38461538461538464 0.6155384615384616\n",
      "0.0 0.154 0.23092307692307693 0.38461538461538464\n",
      "0.154 0.23092307692307693 0.23107692307692307 0.38461538461538464\n",
      "0.23092307692307693 0.23107692307692307 0.30800000000000005 0.38461538461538464\n",
      "0.23092307692307693 0.30800000000000005\n",
      "0.007962130177514792\n"
     ]
    }
   ],
   "source": [
    "test = lambda x: 100*(x-0.24)**2\n",
    "result = fibbonaci_method(test, 0.0, 1.0, 0.1)\n",
    "print(result)"
   ]
  },
  {
   "cell_type": "markdown",
   "id": "245b9beb-7eab-4406-a2a4-a35b15e01984",
   "metadata": {},
   "source": [
    "### Quadratic aproximation"
   ]
  },
  {
   "cell_type": "code",
   "execution_count": 323,
   "id": "e04dc7f5-064b-4b3d-b54f-83b76ba5f9d7",
   "metadata": {},
   "outputs": [],
   "source": [
    "def find_parabola_minimum(x1, x2, x3, f1, f2, f3):\n",
    "    a = f1/((x1-x2)*(x1-x3)) + f2/((x2-x1)*(x2-x3)) + f3/((x3-x1)*(x3-x2))\n",
    "    b = (f1 * (x2 + x3))/((x1-x2)*(x3-x1)) + (f2 * (x1 + x3))/((x2-x1)*(x3-x2)) + (f3 * (x1 + x2))/((x3-x1)*(x2-x3))\n",
    "    return -b/(2*a)\n",
    "\n",
    "def quadratic_approx(f, a, b, epsilon):\n",
    "    x1, x3 = a, b\n",
    "#     x2 = a + (b - a) * 1/1.618033988\n",
    "    x2 = 3\n",
    "    f1, f2, f3 = f(x1), f(x2), f(x3)\n",
    "    print(x1, x2, x3)\n",
    "    while(True):\n",
    "        xm = find_parabola_minimum(x1, x2, x3, f1, f2, f3)\n",
    "        fm = f(xm)\n",
    "        if xm < x3 and xm > x2 and fm <= f2:\n",
    "            x1, x2 = x2, xm\n",
    "            f1, f2 = f2, fm\n",
    "        elif xm < x3 and xm > x2 and fm > f2:\n",
    "            x3 = xm\n",
    "            f3 = fm\n",
    "        elif xm < x2 and xm > x1 and fm <= f2:\n",
    "            x2, x3 = xm, x2\n",
    "            f2, f3 = fm, f2\n",
    "        elif xm < x2 and xm > x1 and fm > f2:\n",
    "            x1 = xm\n",
    "            f1 = fm\n",
    "        print(xm, fm)\n",
    "        if(x3-x2 < epsilon or x2-x1 < epsilon): break\n",
    "    return fm\n",
    "            "
   ]
  },
  {
   "cell_type": "code",
   "execution_count": 324,
   "id": "4207a914-ae9b-4474-9dab-ebbf8822208a",
   "metadata": {},
   "outputs": [
    {
     "name": "stdout",
     "output_type": "stream",
     "text": [
      "1.0 3 4.0\n",
      "2.285714285714285 12.224489795918366\n",
      "2.1999999999999993 12.112727272727273\n",
      "2.086956521739133 12.022054190296156\n",
      "2.054054054054049 12.00861174118642\n",
      "2.0273401297497555 12.002222287408092\n",
      "2.015999642244002 12.000763902435594\n",
      "2.0085868083304135 12.000220569405068\n",
      "12.000220569405068\n"
     ]
    }
   ],
   "source": [
    "test = lambda x: x**2 + 16/x\n",
    "result = quadratic_approx(test, 1.0, 4.0, 0.01)\n",
    "print(result)"
   ]
  },
  {
   "cell_type": "code",
   "execution_count": null,
   "id": "901770ef-90bd-4a08-9261-e6dffea07587",
   "metadata": {},
   "outputs": [],
   "source": []
  }
 ],
 "metadata": {
  "kernelspec": {
   "display_name": "Python 3 (ipykernel)",
   "language": "python",
   "name": "python3"
  },
  "language_info": {
   "codemirror_mode": {
    "name": "ipython",
    "version": 3
   },
   "file_extension": ".py",
   "mimetype": "text/x-python",
   "name": "python",
   "nbconvert_exporter": "python",
   "pygments_lexer": "ipython3",
   "version": "3.8.10"
  }
 },
 "nbformat": 4,
 "nbformat_minor": 5
}
