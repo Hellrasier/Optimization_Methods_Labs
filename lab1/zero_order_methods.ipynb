{
 "cells": [
  {
   "cell_type": "markdown",
   "id": "03794f50-7298-4e15-a7cf-9bac2ac79d12",
   "metadata": {},
   "source": [
    "## Zero-order methods"
   ]
  },
  {
   "cell_type": "code",
   "execution_count": null,
   "id": "6ba594b7-a8dc-4f20-9fd0-afac33722948",
   "metadata": {},
   "outputs": [],
   "source": []
  }
 ],
 "metadata": {
  "kernelspec": {
   "display_name": "Python 3 (ipykernel)",
   "language": "python",
   "name": "python3"
  },
  "language_info": {
   "codemirror_mode": {
    "name": "ipython",
    "version": 3
   },
   "file_extension": ".py",
   "mimetype": "text/x-python",
   "name": "python",
   "nbconvert_exporter": "python",
   "pygments_lexer": "ipython3",
   "version": "3.8.10"
  }
 },
 "nbformat": 4,
 "nbformat_minor": 5
}
